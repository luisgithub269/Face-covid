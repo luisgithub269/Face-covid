{
  "nbformat": 4,
  "nbformat_minor": 0,
  "metadata": {
    "colab": {
      "name": "face-image_training_pyiamgesearch.ipynb",
      "provenance": [],
      "authorship_tag": "ABX9TyMqaROfr2HHpJaOx38CQQRQ",
      "include_colab_link": true
    },
    "kernelspec": {
      "name": "python3",
      "display_name": "Python 3"
    }
  },
  "cells": [
    {
      "cell_type": "markdown",
      "metadata": {
        "id": "view-in-github",
        "colab_type": "text"
      },
      "source": [
        "<a href=\"https://colab.research.google.com/github/luisgithub269/Face-covid/blob/main/face_image_training_pyiamgesearch.ipynb\" target=\"_parent\"><img src=\"https://colab.research.google.com/assets/colab-badge.svg\" alt=\"Open In Colab\"/></a>"
      ]
    },
    {
      "cell_type": "code",
      "metadata": {
        "colab": {
          "base_uri": "https://localhost:8080/"
        },
        "id": "j3BGKhdnX0L3",
        "outputId": "b9acc7ba-e732-4c9e-d2ac-a30c53d7ecb3"
      },
      "source": [
        "from google.colab import drive\n",
        "\n",
        "drive.mount('/content/gdrive')"
      ],
      "execution_count": null,
      "outputs": [
        {
          "output_type": "stream",
          "text": [
            "Mounted at /content/gdrive\n"
          ],
          "name": "stdout"
        }
      ]
    },
    {
      "cell_type": "code",
      "metadata": {
        "colab": {
          "base_uri": "https://localhost:8080/"
        },
        "id": "uXHGemedY8NY",
        "outputId": "9c713daa-e420-427d-b5ce-1abd5ecbdc6b"
      },
      "source": [
        "!pwd"
      ],
      "execution_count": null,
      "outputs": [
        {
          "output_type": "stream",
          "text": [
            "/content/gdrive/My Drive/protomask/observations/experiements/data\n"
          ],
          "name": "stdout"
        }
      ]
    },
    {
      "cell_type": "code",
      "metadata": {
        "colab": {
          "base_uri": "https://localhost:8080/"
        },
        "id": "5L2CUrOcZ2EM",
        "outputId": "2a82755f-185f-4753-de0e-314de0784c7a"
      },
      "source": [
        "%cd face-covid/"
      ],
      "execution_count": null,
      "outputs": [
        {
          "output_type": "stream",
          "text": [
            "/content/gdrive/My Drive/protomask/face-covid\n"
          ],
          "name": "stdout"
        }
      ]
    },
    {
      "cell_type": "code",
      "metadata": {
        "colab": {
          "base_uri": "https://localhost:8080/"
        },
        "id": "AvGquUThZ9_C",
        "outputId": "03d94f51-2517-4dc4-c312-ec2bfb6edd10"
      },
      "source": [
        "!python3 train_mask_detector.py -d ../observations/experiements/data/"
      ],
      "execution_count": null,
      "outputs": [
        {
          "output_type": "stream",
          "text": [
            "2021-02-28 16:26:04.974785: I tensorflow/stream_executor/platform/default/dso_loader.cc:49] Successfully opened dynamic library libcudart.so.10.1\n",
            "[INFO] loading images...\n",
            "WARNING:tensorflow:`input_shape` is undefined or non-square, or `rows` is not in [96, 128, 160, 192, 224]. Weights for input shape (224, 224) will be loaded as the default.\n",
            "2021-02-28 16:33:07.279900: I tensorflow/compiler/jit/xla_cpu_device.cc:41] Not creating XLA devices, tf_xla_enable_xla_devices not set\n",
            "2021-02-28 16:33:07.300374: I tensorflow/stream_executor/platform/default/dso_loader.cc:49] Successfully opened dynamic library libcuda.so.1\n",
            "2021-02-28 16:33:07.362875: E tensorflow/stream_executor/cuda/cuda_driver.cc:328] failed call to cuInit: CUDA_ERROR_NO_DEVICE: no CUDA-capable device is detected\n",
            "2021-02-28 16:33:07.362943: I tensorflow/stream_executor/cuda/cuda_diagnostics.cc:156] kernel driver does not appear to be running on this host (0311adecad44): /proc/driver/nvidia/version does not exist\n",
            "2021-02-28 16:33:07.363494: I tensorflow/compiler/jit/xla_gpu_device.cc:99] Not creating XLA devices, tf_xla_enable_xla_devices not set\n",
            "Downloading data from https://storage.googleapis.com/tensorflow/keras-applications/mobilenet_v2/mobilenet_v2_weights_tf_dim_ordering_tf_kernels_1.0_224_no_top.h5\n",
            "9412608/9406464 [==============================] - 0s 0us/step\n",
            "[INFO] compiling model...\n",
            "[INFO] training head...\n",
            "2021-02-28 16:33:09.160052: I tensorflow/compiler/mlir/mlir_graph_optimization_pass.cc:116] None of the MLIR optimization passes are enabled (registered 2)\n",
            "2021-02-28 16:33:09.162510: I tensorflow/core/platform/profile_utils/cpu_utils.cc:112] CPU Frequency: 2200180000 Hz\n",
            "Epoch 1/20\n",
            "34/34 [==============================] - 57s 2s/step - loss: 0.7242 - accuracy: 0.6327 - val_loss: 0.2827 - val_accuracy: 0.9891\n",
            "Epoch 2/20\n",
            "34/34 [==============================] - 53s 2s/step - loss: 0.2823 - accuracy: 0.9452 - val_loss: 0.1296 - val_accuracy: 0.9855\n",
            "Epoch 3/20\n",
            "34/34 [==============================] - 53s 2s/step - loss: 0.1652 - accuracy: 0.9625 - val_loss: 0.0793 - val_accuracy: 0.9928\n",
            "Epoch 4/20\n",
            "34/34 [==============================] - 53s 2s/step - loss: 0.1030 - accuracy: 0.9819 - val_loss: 0.0546 - val_accuracy: 0.9928\n",
            "Epoch 5/20\n",
            "34/34 [==============================] - 53s 2s/step - loss: 0.0773 - accuracy: 0.9902 - val_loss: 0.0428 - val_accuracy: 0.9928\n",
            "Epoch 6/20\n",
            "34/34 [==============================] - 53s 2s/step - loss: 0.0646 - accuracy: 0.9837 - val_loss: 0.0345 - val_accuracy: 0.9964\n",
            "Epoch 7/20\n",
            "34/34 [==============================] - 53s 2s/step - loss: 0.0412 - accuracy: 0.9956 - val_loss: 0.0295 - val_accuracy: 0.9964\n",
            "Epoch 8/20\n",
            "34/34 [==============================] - 54s 2s/step - loss: 0.0399 - accuracy: 0.9951 - val_loss: 0.0254 - val_accuracy: 0.9964\n",
            "Epoch 9/20\n",
            "34/34 [==============================] - 53s 2s/step - loss: 0.0485 - accuracy: 0.9862 - val_loss: 0.0229 - val_accuracy: 0.9964\n",
            "Epoch 10/20\n",
            "34/34 [==============================] - 53s 2s/step - loss: 0.0413 - accuracy: 0.9913 - val_loss: 0.0200 - val_accuracy: 0.9964\n",
            "Epoch 11/20\n",
            "34/34 [==============================] - 53s 2s/step - loss: 0.0433 - accuracy: 0.9839 - val_loss: 0.0181 - val_accuracy: 0.9964\n",
            "Epoch 12/20\n",
            "34/34 [==============================] - 53s 2s/step - loss: 0.0405 - accuracy: 0.9904 - val_loss: 0.0172 - val_accuracy: 0.9964\n",
            "Epoch 13/20\n",
            "34/34 [==============================] - 53s 2s/step - loss: 0.0297 - accuracy: 0.9900 - val_loss: 0.0160 - val_accuracy: 0.9964\n",
            "Epoch 14/20\n",
            "34/34 [==============================] - 53s 2s/step - loss: 0.0214 - accuracy: 0.9977 - val_loss: 0.0150 - val_accuracy: 0.9964\n",
            "Epoch 15/20\n",
            "34/34 [==============================] - 53s 2s/step - loss: 0.0177 - accuracy: 0.9987 - val_loss: 0.0134 - val_accuracy: 0.9964\n",
            "Epoch 16/20\n",
            "34/34 [==============================] - 53s 2s/step - loss: 0.0170 - accuracy: 0.9991 - val_loss: 0.0128 - val_accuracy: 0.9964\n",
            "Epoch 17/20\n",
            "34/34 [==============================] - 53s 2s/step - loss: 0.0196 - accuracy: 0.9975 - val_loss: 0.0121 - val_accuracy: 0.9964\n",
            "Epoch 18/20\n",
            "34/34 [==============================] - 53s 2s/step - loss: 0.0142 - accuracy: 0.9995 - val_loss: 0.0112 - val_accuracy: 0.9964\n",
            "Epoch 19/20\n",
            "34/34 [==============================] - 53s 2s/step - loss: 0.0109 - accuracy: 0.9992 - val_loss: 0.0114 - val_accuracy: 0.9964\n",
            "Epoch 20/20\n",
            "34/34 [==============================] - 53s 2s/step - loss: 0.0119 - accuracy: 0.9993 - val_loss: 0.0100 - val_accuracy: 0.9964\n",
            "[INFO] evaluating network...\n",
            "              precision    recall  f1-score   support\n",
            "\n",
            "   with_mask       1.00      0.99      1.00       138\n",
            "without_mask       0.99      1.00      1.00       138\n",
            "\n",
            "    accuracy                           1.00       276\n",
            "   macro avg       1.00      1.00      1.00       276\n",
            "weighted avg       1.00      1.00      1.00       276\n",
            "\n",
            "[INFO] saving mask detector model...\n"
          ],
          "name": "stdout"
        }
      ]
    },
    {
      "cell_type": "code",
      "metadata": {
        "colab": {
          "base_uri": "https://localhost:8080/"
        },
        "id": "gFAJk38epJyk",
        "outputId": "83c6d1d4-dc51-409c-84d5-39da047716cb"
      },
      "source": [
        "!du -h"
      ],
      "execution_count": null,
      "outputs": [
        {
          "output_type": "stream",
          "text": [
            "11M\t.\n"
          ],
          "name": "stdout"
        }
      ]
    }
  ]
}